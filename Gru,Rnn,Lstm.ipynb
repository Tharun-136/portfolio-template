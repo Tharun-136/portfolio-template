{
  "cells": [
    {
      "cell_type": "markdown",
      "metadata": {
        "id": "view-in-github",
        "colab_type": "text"
      },
      "source": [
        "<a href=\"https://colab.research.google.com/github/Tharun-136/portfolio-template/blob/main/Gru%2CRnn%2CLstm.ipynb\" target=\"_parent\"><img src=\"https://colab.research.google.com/assets/colab-badge.svg\" alt=\"Open In Colab\"/></a>"
      ]
    },
    {
      "cell_type": "code",
      "execution_count": 1,
      "metadata": {
        "colab": {
          "base_uri": "https://localhost:8080/"
        },
        "id": "7Rtx4KODJ5hv",
        "outputId": "8b73c67b-aeac-4a1f-9b98-62395587b657"
      },
      "outputs": [
        {
          "output_type": "stream",
          "name": "stdout",
          "text": [
            "Downloading data from https://storage.googleapis.com/tensorflow/tf-keras-datasets/imdb.npz\n",
            "17464789/17464789 [==============================] - 0s 0us/step\n",
            "Epoch 1/5\n",
            "157/157 [==============================] - 120s 722ms/step - loss: 0.6884 - accuracy: 0.5383 - val_loss: 0.6714 - val_accuracy: 0.5758\n",
            "Epoch 2/5\n",
            "157/157 [==============================] - 103s 656ms/step - loss: 0.6346 - accuracy: 0.6362 - val_loss: 0.6314 - val_accuracy: 0.6114\n",
            "Epoch 3/5\n",
            "157/157 [==============================] - 99s 632ms/step - loss: 0.5892 - accuracy: 0.6849 - val_loss: 0.6441 - val_accuracy: 0.6176\n",
            "Epoch 4/5\n",
            "157/157 [==============================] - 93s 596ms/step - loss: 0.5673 - accuracy: 0.7042 - val_loss: 0.6380 - val_accuracy: 0.6378\n",
            "Epoch 5/5\n",
            "157/157 [==============================] - 90s 571ms/step - loss: 0.5191 - accuracy: 0.7324 - val_loss: 0.6185 - val_accuracy: 0.6802\n",
            "196/196 [==============================] - 8s 42ms/step - loss: 0.6133 - accuracy: 0.6742\n",
            "Test loss: 0.6132745742797852\n",
            "Test accuracy: 0.6741999983787537\n"
          ]
        }
      ],
      "source": [
        "import numpy as np\n",
        "import pandas as pd\n",
        "from tensorflow.keras.datasets import imdb\n",
        "from tensorflow.keras.models import Sequential\n",
        "from tensorflow.keras.layers import Embedding, GRU, Dense,LSTM\n",
        "import keras\n",
        "from keras import layers\n",
        "from tensorflow.keras.preprocessing import sequence\n",
        "\n",
        "# Set the maximum number of words to consider in the reviews\n",
        "max_words = 5000\n",
        "\n",
        "# Load the IMDB dataset\n",
        "(x_train, y_train), (x_test, y_test) = imdb.load_data(num_words=max_words)\n",
        "\n",
        "# Pad the sequences to have the same length\n",
        "max_length = 500\n",
        "x_train = sequence.pad_sequences(x_train, maxlen=max_length)\n",
        "x_test = sequence.pad_sequences(x_test, maxlen=max_length)\n",
        "\n",
        "# Build the GRU-based model\n",
        "model = Sequential()\n",
        "model.add(Embedding(max_words, 100, input_length=max_length))\n",
        "model.add(layers.SimpleRNN(128))\n",
        "model.add(Dense(1, activation='sigmoid'))\n",
        "\n",
        "model.compile(loss='binary_crossentropy', optimizer='adam', metrics=['accuracy'])\n",
        "\n",
        "# Train the model\n",
        "batch_size = 128\n",
        "epochs = 5\n",
        "model.fit(x_train, y_train, batch_size=batch_size, epochs=epochs, validation_split=0.2)\n",
        "\n",
        "# Evaluate the model on the test set\n",
        "loss, accuracy = model.evaluate(x_test, y_test, batch_size=batch_size)\n",
        "print(\"Test loss:\", loss)\n",
        "print(\"Test accuracy:\", accuracy)\n"
      ]
    },
    {
      "cell_type": "code",
      "source": [
        "history=model.fit(x_train,y_train,batch_size=batch_size,epochs=epochs)"
      ],
      "metadata": {
        "colab": {
          "base_uri": "https://localhost:8080/"
        },
        "id": "zNAO_TfSXP_h",
        "outputId": "5a1275b9-28da-482c-e3b7-7c730886fc45"
      },
      "execution_count": 2,
      "outputs": [
        {
          "output_type": "stream",
          "name": "stdout",
          "text": [
            "Epoch 1/5\n",
            "196/196 [==============================] - 107s 545ms/step - loss: 0.4686 - accuracy: 0.7796\n",
            "Epoch 2/5\n",
            "196/196 [==============================] - 105s 535ms/step - loss: 0.4403 - accuracy: 0.7974\n",
            "Epoch 3/5\n",
            "196/196 [==============================] - 106s 539ms/step - loss: 0.3646 - accuracy: 0.8435\n",
            "Epoch 4/5\n",
            "196/196 [==============================] - 106s 539ms/step - loss: 0.3268 - accuracy: 0.8660\n",
            "Epoch 5/5\n",
            "196/196 [==============================] - 107s 546ms/step - loss: 0.3345 - accuracy: 0.8642\n"
          ]
        }
      ]
    },
    {
      "cell_type": "code",
      "source": [
        "train_loss1 = history.history['loss']\n",
        "train_acc1 = history.history['accuracy']\n",
        "xc1=range(len(train_acc1))"
      ],
      "metadata": {
        "id": "4Qb2wtUTZQZ6"
      },
      "execution_count": 3,
      "outputs": []
    },
    {
      "cell_type": "code",
      "execution_count": 4,
      "metadata": {
        "colab": {
          "base_uri": "https://localhost:8080/"
        },
        "id": "aVFc3K9mzVWD",
        "outputId": "129a10db-0488-46d0-99a3-d7fd3ad0f7fd"
      },
      "outputs": [
        {
          "output_type": "stream",
          "name": "stdout",
          "text": [
            "Epoch 1/5\n",
            "157/157 [==============================] - 33s 185ms/step - loss: 0.5283 - accuracy: 0.7227 - val_loss: 0.5131 - val_accuracy: 0.7436\n",
            "Epoch 2/5\n",
            "157/157 [==============================] - 18s 114ms/step - loss: 0.3137 - accuracy: 0.8683 - val_loss: 0.3306 - val_accuracy: 0.8608\n",
            "Epoch 3/5\n",
            "157/157 [==============================] - 14s 88ms/step - loss: 0.2381 - accuracy: 0.9068 - val_loss: 0.3800 - val_accuracy: 0.8674\n",
            "Epoch 4/5\n",
            "157/157 [==============================] - 11s 73ms/step - loss: 0.2054 - accuracy: 0.9219 - val_loss: 0.3177 - val_accuracy: 0.8726\n",
            "Epoch 5/5\n",
            "157/157 [==============================] - 10s 62ms/step - loss: 0.1513 - accuracy: 0.9453 - val_loss: 0.3447 - val_accuracy: 0.8616\n",
            "196/196 [==============================] - 2s 12ms/step - loss: 0.3423 - accuracy: 0.8680\n",
            "Test loss: 0.3422508239746094\n",
            "Test accuracy: 0.8679599761962891\n"
          ]
        }
      ],
      "source": [
        "model = Sequential()\n",
        "model.add(Embedding(max_words, 100, input_length=max_length))\n",
        "model.add(layers.GRU(128))\n",
        "model.add(Dense(1, activation='sigmoid'))\n",
        "\n",
        "model.compile(loss='binary_crossentropy', optimizer='adam', metrics=['accuracy'])\n",
        "\n",
        "# Train the model\n",
        "batch_size = 128\n",
        "epochs = 5\n",
        "hist=model.fit(x_train, y_train, batch_size=batch_size, epochs=epochs, validation_split=0.2)\n",
        "\n",
        "# Evaluate the model on the test set\n",
        "loss, accuracy = model.evaluate(x_test, y_test, batch_size=batch_size)\n",
        "print(\"Test loss:\", loss)\n",
        "print(\"Test accuracy:\", accuracy)\n"
      ]
    },
    {
      "cell_type": "code",
      "source": [
        "train_loss2 = hist.history['loss']\n",
        "train_acc2 = hist.history['accuracy']\n",
        "xc2=range(len(train_acc2))"
      ],
      "metadata": {
        "id": "JvmljoAcaJrx"
      },
      "execution_count": 6,
      "outputs": []
    },
    {
      "cell_type": "code",
      "execution_count": 7,
      "metadata": {
        "id": "WPVmMxUAzgKK",
        "colab": {
          "base_uri": "https://localhost:8080/"
        },
        "outputId": "6257b9cd-a27f-44c5-b018-430a34718c78"
      },
      "outputs": [
        {
          "output_type": "stream",
          "name": "stdout",
          "text": [
            "Epoch 1/5\n",
            "157/157 [==============================] - 29s 170ms/step - loss: 0.5158 - accuracy: 0.7449 - val_loss: 0.3483 - val_accuracy: 0.8564\n",
            "Epoch 2/5\n",
            "157/157 [==============================] - 18s 115ms/step - loss: 0.2975 - accuracy: 0.8782 - val_loss: 0.3186 - val_accuracy: 0.8732\n",
            "Epoch 3/5\n",
            "157/157 [==============================] - 13s 80ms/step - loss: 0.2412 - accuracy: 0.9082 - val_loss: 0.3404 - val_accuracy: 0.8660\n",
            "Epoch 4/5\n",
            "157/157 [==============================] - 11s 70ms/step - loss: 0.2135 - accuracy: 0.9179 - val_loss: 0.3433 - val_accuracy: 0.8702\n",
            "Epoch 5/5\n",
            "157/157 [==============================] - 9s 60ms/step - loss: 0.1678 - accuracy: 0.9377 - val_loss: 0.3522 - val_accuracy: 0.8712\n",
            "196/196 [==============================] - 3s 13ms/step - loss: 0.3602 - accuracy: 0.8698\n",
            "Test loss: 0.36022570729255676\n",
            "Test accuracy: 0.8697999715805054\n"
          ]
        }
      ],
      "source": [
        "model = Sequential()\n",
        "model.add(Embedding(max_words, 100, input_length=max_length))\n",
        "model.add(layers.LSTM(128))\n",
        "model.add(Dense(1, activation='sigmoid'))\n",
        "\n",
        "model.compile(loss='binary_crossentropy', optimizer='adam', metrics=['accuracy'])\n",
        "\n",
        "# Train the model\n",
        "batch_size = 128\n",
        "epochs = 5\n",
        "h=model.fit(x_train, y_train, batch_size=batch_size, epochs=epochs, validation_split=0.2)\n",
        "\n",
        "# Evaluate the model on the test set\n",
        "loss, accuracy = model.evaluate(x_test, y_test, batch_size=batch_size)\n",
        "print(\"Test loss:\", loss)\n",
        "print(\"Test accuracy:\", accuracy)\n"
      ]
    },
    {
      "cell_type": "code",
      "source": [
        "train_loss3 = h.history['loss']\n",
        "train_acc3 = h.history['accuracy']\n",
        "xc3=range(len(train_loss3))"
      ],
      "metadata": {
        "id": "CoYv2TLcaoMC"
      },
      "execution_count": 8,
      "outputs": []
    },
    {
      "cell_type": "code",
      "source": [
        "import matplotlib.pyplot as plt\n",
        "plt.plot(xc1, train_acc1)\n",
        "plt.plot(xc2, train_acc2)\n",
        "plt.plot(xc3, train_acc3)\n",
        "plt.xlabel(\"Epoch\")\n",
        "plt.ylabel(\"Accuracy\")\n",
        "plt.legend([\"RNN\",\"GRU\",\"LSTM\"])"
      ],
      "metadata": {
        "colab": {
          "base_uri": "https://localhost:8080/",
          "height": 466
        },
        "id": "cwzNDbP7at8C",
        "outputId": "338d3f04-0276-4e94-8fdb-ffe2f93aa37e"
      },
      "execution_count": 10,
      "outputs": [
        {
          "output_type": "execute_result",
          "data": {
            "text/plain": [
              "<matplotlib.legend.Legend at 0x7ab319ae1f90>"
            ]
          },
          "metadata": {},
          "execution_count": 10
        },
        {
          "output_type": "display_data",
          "data": {
            "text/plain": [
              "<Figure size 640x480 with 1 Axes>"
            ],
            "image/png": "[encoded data removed]"
          },
          "metadata": {}
        }
      ]
    }
  ],
  "metadata": {
    "accelerator": "GPU",
    "colab": {
      "provenance": [],
      "include_colab_link": true
    },
    "kernelspec": {
      "display_name": "Python 3",
      "name": "python3"
    },
    "language_info": {
      "name": "python"
    }
  },
  "nbformat": 4,
  "nbformat_minor": 0
}